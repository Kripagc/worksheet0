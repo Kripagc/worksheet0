{
  "nbformat": 4,
  "nbformat_minor": 0,
  "metadata": {
    "colab": {
      "provenance": []
    },
    "kernelspec": {
      "name": "python3",
      "display_name": "Python 3"
    },
    "language_info": {
      "name": "python"
    }
  },
  "cells": [
    {
      "cell_type": "code",
      "source": [
        "#Name : Kripa GC\n",
        "#Student id : 2408847\n",
        "\n",
        "#Q.1 ,To do task\n",
        "# Task 1: Classify Temperatures\n",
        "\n",
        "# List of temperatures for the month\n",
        "temperatures = [8.2, 17.4, 14.1, 7.9, 18.0, 13.5, 9.0, 17.8, 13.0, 8.5,\n",
        "                16.5, 12.9, 7.7, 17.2, 13.3, 8.4, 16.7, 14.0, 9.5, 18.3,\n",
        "                13.4, 8.1, 17.9, 14.2, 7.6, 17.0, 12.8, 8.0, 16.8, 13.7,\n",
        "                7.8, 17.5, 13.6, 8.7, 17.1, 13.8, 9.2, 18.1, 13.9, 8.3,\n",
        "                16.4, 12.7, 8.9, 18.2, 13.1, 7.8, 16.6, 12.5]\n",
        "\n",
        "# Empty lists for classifications\n",
        "cold = []\n",
        "mild = []\n",
        "comfortable = []\n",
        "\n",
        "# Iterate through the temperatures and classify them\n",
        "for temp in temperatures:\n",
        "    if temp < 10:\n",
        "        cold.append(temp)\n",
        "    elif 10 <= temp <= 15:\n",
        "        mild.append(temp)\n",
        "    else:\n",
        "        comfortable.append(temp)\n",
        "\n",
        "# Print the results\n",
        "print(\"Cold temperatures:\", cold)\n",
        "print(\"Mild temperatures:\", mild)\n",
        "print(\"Comfortable temperatures:\", comfortable)\n"
      ],
      "metadata": {
        "colab": {
          "base_uri": "https://localhost:8080/"
        },
        "id": "UYKx4ThDUvv7",
        "outputId": "b449559a-bb8b-4205-868c-f7ccb596e99d"
      },
      "execution_count": 1,
      "outputs": [
        {
          "output_type": "stream",
          "name": "stdout",
          "text": [
            "Cold temperatures: [8.2, 7.9, 9.0, 8.5, 7.7, 8.4, 9.5, 8.1, 7.6, 8.0, 7.8, 8.7, 9.2, 8.3, 8.9, 7.8]\n",
            "Mild temperatures: [14.1, 13.5, 13.0, 12.9, 13.3, 14.0, 13.4, 14.2, 12.8, 13.7, 13.6, 13.8, 13.9, 12.7, 13.1, 12.5]\n",
            "Comfortable temperatures: [17.4, 18.0, 17.8, 16.5, 17.2, 16.7, 18.3, 17.9, 17.0, 16.8, 17.5, 17.1, 18.1, 16.4, 18.2, 16.6]\n"
          ]
        }
      ]
    },
    {
      "cell_type": "code",
      "source": [
        "# Task 2: Answer Questions\n",
        "\n",
        "# Count the number of times each classification occurs\n",
        "cold_count = len(cold)\n",
        "mild_count = len(mild)\n",
        "comfortable_count = len(comfortable)\n",
        "\n",
        "# Print the results\n",
        "print(\"Number of cold days:\", cold_count)\n",
        "print(\"Number of mild days:\", mild_count)\n",
        "print(\"Number of comfortable days:\", comfortable_count)\n"
      ],
      "metadata": {
        "colab": {
          "base_uri": "https://localhost:8080/"
        },
        "id": "pRtSlbIMWUYO",
        "outputId": "a338deed-7bc1-45f2-bc3c-ec0f1caa54a4"
      },
      "execution_count": null,
      "outputs": [
        {
          "output_type": "stream",
          "name": "stdout",
          "text": [
            "Number of cold days: 16\n",
            "Number of mild days: 16\n",
            "Number of comfortable days: 16\n"
          ]
        }
      ]
    },
    {
      "cell_type": "code",
      "source": [
        "# Task 3: Convert Temperatures from Celsius to Fahrenheit\n",
        "\n",
        "# Create an empty list for Fahrenheit temperatures\n",
        "temperatures_fahrenheit = []\n",
        "\n",
        "# Iterate through the temperatures and convert them\n",
        "for temp in temperatures:\n",
        "    fahrenheit = (temp * 9/5) + 32\n",
        "    temperatures_fahrenheit.append(fahrenheit)\n",
        "\n",
        "# Print the converted temperatures\n",
        "print(\"Temperatures in Fahrenheit:\", temperatures_fahrenheit)\n"
      ],
      "metadata": {
        "colab": {
          "base_uri": "https://localhost:8080/"
        },
        "id": "d0eONr19WicV",
        "outputId": "4affdf2a-fe25-473e-fd8e-e893e390e8b2"
      },
      "execution_count": null,
      "outputs": [
        {
          "output_type": "stream",
          "name": "stdout",
          "text": [
            "Temperatures in Fahrenheit: [46.76, 63.32, 57.379999999999995, 46.22, 64.4, 56.3, 48.2, 64.04, 55.4, 47.3, 61.7, 55.22, 45.86, 62.959999999999994, 55.94, 47.120000000000005, 62.059999999999995, 57.2, 49.1, 64.94, 56.120000000000005, 46.58, 64.22, 57.56, 45.68, 62.6, 55.04, 46.4, 62.24, 56.66, 46.04, 63.5, 56.48, 47.66, 62.78, 56.84, 48.56, 64.58, 57.02, 46.94, 61.519999999999996, 54.86, 48.02, 64.75999999999999, 55.58, 46.04, 61.88, 54.5]\n"
          ]
        }
      ]
    },
    {
      "cell_type": "code",
      "source": [
        "# Task 4: Analyze Temperature Patterns by Time of Day with Plot\n",
        "\n",
        "import matplotlib.pyplot as plt\n",
        "\n",
        "# Empty lists for each time of day\n",
        "night_temps = temperatures[::3]   # Every 3rd value starting from index 0\n",
        "evening_temps = temperatures[1::3] # Every 3rd value starting from index 1\n",
        "day_temps = temperatures[2::3]     # Every 3rd value starting from index 2\n",
        "\n",
        "# Calculate the average day temperature\n",
        "average_day_temp = sum(day_temps) / len(day_temps)\n",
        "\n",
        "# Print the results\n",
        "print(\"Night temperatures:\", night_temps)\n",
        "print(\"Evening temperatures:\", evening_temps)\n",
        "print(\"Day temperatures:\", day_temps)\n",
        "print(\"Average daytime temperature:\", average_day_temp)\n",
        "\n",
        "# Plotting \"day vs. temperature\"\n",
        "days = list(range(1, len(day_temps) + 1))  # Create a list of days (1, 2, 3, ...)\n",
        "\n",
        "plt.figure(figsize=(8, 5))  # Set the figure size\n",
        "plt.plot(days, day_temps, marker='o', color='b', label='Day Temperatures')  # Line plot for day temperatures\n",
        "plt.xlabel('Day')  # X-axis label\n",
        "plt.ylabel('Temperature (°C)')  # Y-axis label\n",
        "plt.title('Day vs Temperature')  # Plot title\n",
        "plt.grid(True)  # Show grid\n",
        "plt.legend()  # Display the legend\n",
        "\n",
        "# Show the plot\n",
        "plt.show()\n"
      ],
      "metadata": {
        "colab": {
          "base_uri": "https://localhost:8080/",
          "height": 556
        },
        "id": "xawRTlEgWslH",
        "outputId": "a9855a6f-218d-425d-ec3a-6acf4f7adba5"
      },
      "execution_count": null,
      "outputs": [
        {
          "output_type": "stream",
          "name": "stdout",
          "text": [
            "Night temperatures: [8.2, 7.9, 9.0, 8.5, 7.7, 8.4, 9.5, 8.1, 7.6, 8.0, 7.8, 8.7, 9.2, 8.3, 8.9, 7.8]\n",
            "Evening temperatures: [17.4, 18.0, 17.8, 16.5, 17.2, 16.7, 18.3, 17.9, 17.0, 16.8, 17.5, 17.1, 18.1, 16.4, 18.2, 16.6]\n",
            "Day temperatures: [14.1, 13.5, 13.0, 12.9, 13.3, 14.0, 13.4, 14.2, 12.8, 13.7, 13.6, 13.8, 13.9, 12.7, 13.1, 12.5]\n",
            "Average daytime temperature: 13.40625\n"
          ]
        },
        {
          "output_type": "display_data",
          "data": {
            "text/plain": [
              "<Figure size 800x500 with 1 Axes>"
            ],
            "image/png": "[encoded data removed]"
          },
          "metadata": {}
        }
      ]
    },
    {
      "cell_type": "code",
      "source": [
        "#Q.2 ,Problems based on popular algorithm , problems on recursion\n",
        "# Task 1 - Sum of Nested Lists\n",
        "\n",
        "def sum_nested_list(nested_list):\n",
        "    \"\"\"\n",
        "    Recursively calculates the sum of all numbers in a nested list.\n",
        "    Args:\n",
        "    nested_list (list): List containing numbers or nested lists.\n",
        "    Returns:\n",
        "    int: Total sum of all numbers, including those in sublists.\n",
        "    \"\"\"\n",
        "    total = 0\n",
        "    for element in nested_list:\n",
        "        if isinstance(element, list):  # Check if element is a list\n",
        "            total += sum_nested_list(element)  # Recurse for nested list\n",
        "        else:\n",
        "            total += element  # Add number to total\n",
        "    return total\n",
        "\n",
        "# Test the function with a sample nested list\n",
        "nested_list = [1, [2, [3, 4], 5], 6, [7, 8]]\n",
        "print(\"Sum of Nested List:\", sum_nested_list(nested_list))\n"
      ],
      "metadata": {
        "colab": {
          "base_uri": "https://localhost:8080/"
        },
        "id": "KtWVByN-WsQ2",
        "outputId": "36a80ae6-6767-4da7-a8a6-793f045d763f"
      },
      "execution_count": null,
      "outputs": [
        {
          "output_type": "stream",
          "name": "stdout",
          "text": [
            "Sum of Nested List: 36\n"
          ]
        }
      ]
    },
    {
      "cell_type": "code",
      "source": [
        "# Task 2 - Generate All Permutations of a String\n",
        "\n",
        "def generate_permutations(s):\n",
        "    \"\"\"\n",
        "    Recursively generates all unique permutations of a string.\n",
        "    Args:\n",
        "    s (str): The input string.\n",
        "    Returns:\n",
        "    list: List of unique permutations.\n",
        "    \"\"\"\n",
        "    if len(s) == 1:\n",
        "        return [s]\n",
        "\n",
        "    permutations = []\n",
        "    for i in range(len(s)):\n",
        "        remaining = s[:i] + s[i+1:]\n",
        "        for perm in generate_permutations(remaining):\n",
        "            permutations.append(s[i] + perm)\n",
        "\n",
        "    return list(set(permutations))\n",
        "\n",
        "# Test the function with a sample string\n",
        "print(generate_permutations(\"abc\"))\n"
      ],
      "metadata": {
        "colab": {
          "base_uri": "https://localhost:8080/"
        },
        "id": "sYaG9TxHYXCZ",
        "outputId": "a7bb056d-9376-48be-d203-fdc69f90432b"
      },
      "execution_count": null,
      "outputs": [
        {
          "output_type": "stream",
          "name": "stdout",
          "text": [
            "['acb', 'cba', 'cab', 'abc', 'bac', 'bca']\n"
          ]
        }
      ]
    },
    {
      "cell_type": "code",
      "source": [
        "# Task 3 - Directory Size Calculation (Recursion)\n",
        "\n",
        "def calculate_directory_size(directory):\n",
        "    \"\"\"\n",
        "    Recursively calculates the total size of a directory and its subdirectories.\n",
        "    Args:\n",
        "    directory (dict): Directory with file sizes or nested subdirectories.\n",
        "    Returns:\n",
        "    int: Total size of the directory.\n",
        "    \"\"\"\n",
        "    total_size = 0\n",
        "    for item, size in directory.items():\n",
        "        if isinstance(size, dict):\n",
        "            total_size += calculate_directory_size(size)\n",
        "        else:\n",
        "            total_size += size\n",
        "    return total_size\n",
        "\n",
        "# Test the function with a sample directory structure\n",
        "directory_structure = {\n",
        "    \"file1.txt\": 200,\n",
        "    \"file2.txt\": 300,\n",
        "    \"subdir1\": {\n",
        "        \"file3.txt\": 400,\n",
        "        \"file4.txt\": 100\n",
        "    },\n",
        "    \"subdir2\": {\n",
        "        \"subsubdir1\": {\n",
        "            \"file5.txt\": 250\n",
        "        },\n",
        "        \"file6.txt\": 150\n",
        "    }\n",
        "}\n",
        "\n",
        "print(\"Total Directory Size:\", calculate_directory_size(directory_structure))\n"
      ],
      "metadata": {
        "colab": {
          "base_uri": "https://localhost:8080/"
        },
        "id": "XAyBCIPaYZAm",
        "outputId": "4018db47-81b8-4d67-afc9-f33a61c2c6d1"
      },
      "execution_count": null,
      "outputs": [
        {
          "output_type": "stream",
          "name": "stdout",
          "text": [
            "Total Directory Size: 1400\n"
          ]
        }
      ]
    },
    {
      "cell_type": "code",
      "source": [
        "#Q.3 Dynamic Programming:\n",
        "# Task 1 - Coin Change Problem\n",
        "\n",
        "def min_coins(coins, amount):\n",
        "    \"\"\"\n",
        "    Finds the minimum number of coins needed to make up a given amount using dynamic programming.\n",
        "\n",
        "    Args:\n",
        "    coins (list): List of coin denominations.\n",
        "    amount (int): Target amount to achieve.\n",
        "\n",
        "    Returns:\n",
        "    int: Minimum number of coins needed or -1 if not possible.\n",
        "    \"\"\"\n",
        "    # Initialize the DP table with infinity\n",
        "    dp = [float('inf')] * (amount + 1)\n",
        "    dp[0] = 0  # Base case: no coins needed to make amount 0\n",
        "\n",
        "    # Fill the DP table\n",
        "    for coin in coins:\n",
        "        for i in range(coin, amount + 1):\n",
        "            dp[i] = min(dp[i], dp[i - coin] + 1)\n",
        "\n",
        "    # Return the result for the given amount\n",
        "    return dp[amount] if dp[amount] != float('inf') else -1\n",
        "\n",
        "# Test the function\n",
        "coins = [1, 2, 5]\n",
        "amount = 11\n",
        "print(\"Minimum coins needed:\", min_coins(coins, amount))\n"
      ],
      "metadata": {
        "colab": {
          "base_uri": "https://localhost:8080/"
        },
        "id": "6U6UynVZYdBY",
        "outputId": "ddb09838-2a3a-4448-a539-6d8838da4537"
      },
      "execution_count": null,
      "outputs": [
        {
          "output_type": "stream",
          "name": "stdout",
          "text": [
            "Minimum coins needed: 3\n"
          ]
        }
      ]
    },
    {
      "cell_type": "code",
      "source": [
        "# Task 2 - Longest Common Subsequence (LCS) (Dynamic Programming)\n",
        "\n",
        "def longest_common_subsequence(s1, s2):\n",
        "    \"\"\"\n",
        "    Finds the length of the Longest Common Subsequence (LCS) between two strings using dynamic programming.\n",
        "\n",
        "    Args:\n",
        "    s1 (str): First string.\n",
        "    s2 (str): Second string.\n",
        "\n",
        "    Returns:\n",
        "    int: Length of the longest common subsequence.\n",
        "    \"\"\"\n",
        "    # Create a DP table with dimensions (len(s1)+1) x (len(s2)+1)\n",
        "    dp = [[0] * (len(s2) + 1) for _ in range(len(s1) + 1)]\n",
        "\n",
        "    # Fill the DP table\n",
        "    for i in range(1, len(s1) + 1):\n",
        "        for j in range(1, len(s2) + 1):\n",
        "            if s1[i - 1] == s2[j - 1]:  # If characters match\n",
        "                dp[i][j] = dp[i - 1][j - 1] + 1\n",
        "            else:  # If characters don't match\n",
        "                dp[i][j] = max(dp[i - 1][j], dp[i][j - 1])\n",
        "\n",
        "    # The length of the LCS is in the bottom-right cell of the DP table\n",
        "    return dp[len(s1)][len(s2)]\n",
        "\n",
        "# Test the function\n",
        "s1 = \"abcde\"\n",
        "s2 = \"ace\"\n",
        "print(\"Length of LCS:\", longest_common_subsequence(s1, s2))\n"
      ],
      "metadata": {
        "colab": {
          "base_uri": "https://localhost:8080/"
        },
        "id": "0YxkeCeVYcue",
        "outputId": "cd8fd069-2f59-4750-a0f2-97329107b5c2"
      },
      "execution_count": null,
      "outputs": [
        {
          "output_type": "stream",
          "name": "stdout",
          "text": [
            "Length of LCS: 3\n"
          ]
        }
      ]
    },
    {
      "cell_type": "code",
      "source": [
        "# Task 3 - 0/1 Knapsack Problem\n",
        "\n",
        "def knapsack(weights, values, capacity):\n",
        "    \"\"\"\n",
        "    Solves the 0/1 Knapsack problem using dynamic programming.\n",
        "\n",
        "    Args:\n",
        "    weights (list): Item weights.\n",
        "    values (list): Item values.\n",
        "    capacity (int): Max weight capacity of the knapsack.\n",
        "\n",
        "    Returns:\n",
        "    int: Maximum value that can be obtained within the given capacity.\n",
        "    \"\"\"\n",
        "    n = len(weights)\n",
        "    dp = [[0] * (capacity + 1) for _ in range(n + 1)]\n",
        "\n",
        "    for i in range(1, n + 1):\n",
        "        for w in range(1, capacity + 1):\n",
        "            if weights[i - 1] <= w:\n",
        "                dp[i][w] = max(dp[i - 1][w], dp[i - 1][w - weights[i - 1]] + values[i - 1])\n",
        "            else:\n",
        "                dp[i][w] = dp[i - 1][w]\n",
        "\n",
        "    return dp[n][capacity]\n",
        "\n",
        "# Test the function\n",
        "weights = [1, 3, 4, 5]\n",
        "values = [1, 4, 5, 7]\n",
        "capacity = 7\n",
        "print(\"Maximum value in Knapsack:\", knapsack(weights, values, capacity))"
      ],
      "metadata": {
        "colab": {
          "base_uri": "https://localhost:8080/"
        },
        "id": "tPnsei1pYcXd",
        "outputId": "950ee4af-2a85-453d-da46-1aec456f3743"
      },
      "execution_count": null,
      "outputs": [
        {
          "output_type": "stream",
          "name": "stdout",
          "text": [
            "Maximum value in Knapsack: 9\n"
          ]
        }
      ]
    }
  ]
}